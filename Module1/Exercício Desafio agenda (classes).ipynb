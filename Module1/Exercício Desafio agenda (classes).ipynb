{
 "cells": [
  {
   "cell_type": "code",
   "execution_count": 1,
   "metadata": {},
   "outputs": [],
   "source": [
    "#usar para liberar autocomplete no \n",
    "%config Completer.use_jedi = False\n",
    "from IPython.display import Image, display"
   ]
  },
  {
   "cell_type": "markdown",
   "metadata": {},
   "source": [
    "Neste exercício devemos criar um programa para processar agenda a partir de um arquivo `csv` e permitir que o usuário consulte ou edite a lista de contatos da mesma. Iremos utilizar o conceito de classes e métodos.\n",
    "\n",
    "## Agenda de contatos\n",
    "\n",
    "Você foi contratado por uma empresa para criar uma ferramenta que faz a manutenção da lista de contatos de seus fornecedores. Cada fornecedor possui três informações na lista: nome, telefone e endereço.\n",
    "\n",
    "Seu objetivo é, a partir da lista fornecida pela empresa, organizá-la e retornar uma nova lista a partir de uma ferramenta que permita ao usuário executar as seguintes funções:\n",
    "- Adicionar um contato novo\n",
    "- Remover um contato\n",
    "- Procurar por um contato a partir de uma das três informações"
   ]
  },
  {
   "cell_type": "markdown",
   "metadata": {},
   "source": [
    "Para resolver o problema iremos trabalhar de forma abstrata primeiro, contando o que o algoritmo deve fazer para identificar classes (substantivos) e métodos (verbos):\n",
    "\n",
    "- A agenda é inicializada com um arquivo csv.\n",
    "- O arquivo csv deve ser lido, tratado, e organizado.\n",
    "- Cada pessoa é uma linha do arquivo e possui atributos (telefone e endereço)\n",
    "- O usuário pede para consultar agenda.\n",
    "- ele pode fazer as manipulações do enunciado\n"
   ]
  },
  {
   "cell_type": "code",
   "execution_count": 40,
   "metadata": {},
   "outputs": [],
   "source": [
    "class Agenda():\n",
    "    \n",
    "    def __init__(self, arquivo):\n",
    "        self.arquivo = arquivo\n",
    "        \n",
    "    def ler_arquivo(self):\n",
    "        arquivo_lido = open(self.arquivo, 'r', encoding='utf-8')\n",
    "        conteudo_arquivo = arquivo_lido.readlines()\n",
    "        conteudo_arquivo = [linha.replace(';\\n', '') for linha in conteudo_arquivo]\n",
    "        conteudo_arquivo = [linha.replace('\\n', '') for linha in conteudo_arquivo]\n",
    "        self.conteudo = [linha.split(';') for linha in conteudo_arquivo]\n",
    "        arquivo_lido.close()\n",
    "        return self.conteudo\n",
    "        \n",
    "    def estruturar_agenda(self):\n",
    "        nomes = []\n",
    "        emails = []\n",
    "        telefones = []\n",
    "        \n",
    "        for i in range(len(self.conteudo)):\n",
    "            \n",
    "            linha = self.conteudo[i]\n",
    "            \n",
    "            for j in range(len(linha)):\n",
    "                eh_email = '@' in linha[j]\n",
    "                eh_telefone = linha[j].isnumeric()\n",
    "                \n",
    "                if eh_email:\n",
    "                    emails.append(linha[j])\n",
    "                elif eh_telefone:\n",
    "                    telefones.append(linha[j])\n",
    "                else:\n",
    "                    nomes.append(linha[j])\n",
    "                    \n",
    "        self.nomes = nomes\n",
    "        self.emails = emails\n",
    "        self.telefones = telefones\n",
    "        \n",
    "        return 'Agenda pronta para uso!'\n",
    "    \n",
    "    def mostrar_agenda(self):\n",
    "        agenda_dict = {'Nomes': self.nomes, 'Telefones': self.telefones, 'Emails': self.emails}\n",
    "        return agenda_dict"
   ]
  },
  {
   "cell_type": "code",
   "execution_count": 134,
   "metadata": {},
   "outputs": [],
   "source": [
    "class ConsultaAgenda(Agenda):\n",
    "    def __init__(self, arquivo):\n",
    "        super().__init__(arquivo)\n",
    "        self.ler_arquivo()\n",
    "        self.estruturar_agenda()\n",
    "        print(f'''\n",
    "        Bem-vindo à lista de contatos {self.arquivo}!\\n\n",
    "        Siga as instruções a seguir:\\n\n",
    "        - Para procurar um contato utilizando o 'NOME', utilize 'objeto.procurarnome(\"INSIRA_O_NOME\")'\\n\n",
    "        - Para procurar um contato utilizando o 'EMAIL', utilize 'objeto.procuraremail(\"INSIRA_O_EMAIL\")'\\n\n",
    "        - Para procurar um contato utilizando o 'TELEFONE', utilize 'objeto.procurartel(\"INSIRA_O_TELEFONE\")'\\n\n",
    "        \\n\n",
    "        - Para remover um contato utilizando o 'NOME', utilize 'objeto.removercontato(\"INSIRA_O_NOME\")'\\n\n",
    "        - Para adicionar um contato, utilize \\n\n",
    "        'objeto.adicionarcontato(\"INSIRA_O_NOME\", \"INSIRA_O_EMAIL\", \"INSIRA_O_TELEFONE\")'\\n\n",
    "        ''')\n",
    "    \n",
    "    def checaremail(self, email):\n",
    "        tem_arroba = '@' in email\n",
    "        if tem_arroba:\n",
    "            post_arroba = email.split('@')[1]\n",
    "            eh_email = '.' in post_arroba\n",
    "        else:\n",
    "            eh_email = False\n",
    "        return eh_email\n",
    "    \n",
    "    def adicionarcontato(self, nome, email, telefone):\n",
    "        if not telefone.isnumeric():\n",
    "            print('Telefone inválido! Tente novamente!')\n",
    "        \n",
    "        eh_email = self.checaremail(email)\n",
    "        if not eh_email:\n",
    "            print('Email inválido! Tente novamente!')\n",
    "        \n",
    "        if telefone.isnumeric() and eh_email:\n",
    "            self.nomes.append(nome)\n",
    "            self.emails.append(email)\n",
    "            self.telefones.append(telefone)\n",
    "            return print('Contato adicionado com sucesso!')\n",
    "        \n",
    "    def procurarnome(self, nome):\n",
    "        index_com_nome = [ind for ind, nome_lista in enumerate(self.nomes) if nome_lista == nome]\n",
    "        resultado = {\"Nomes\": [self.nomes[i] for i in index_com_nome], \"Emails\": [self.emails[i] for i in index_com_nome], \"Telefones\": [self.telefones[i] for i in index_com_nome]}\n",
    "        return resultado\n",
    "    \n",
    "    def procurartelefone(self, telefone):       \n",
    "        if not telefone.isnumeric():\n",
    "            print('Telefone inválido! Tente novamente!')\n",
    "        else:\n",
    "            index_com_telefone = [ind for ind, telefone_lista in enumerate(self.telefones) if telefone_lista == telefone]\n",
    "            resultado = {\"Nomes\": [self.nomes[i] for i in index_com_telefone], \"Emails\": [self.emails[i] for i in index_com_telefone], \"Telefones\": [self.telefones[i] for i in index_com_telefone]}\n",
    "            return resultado\n",
    "    \n",
    "    def procuraremail(self, email):\n",
    "        eh_email = self.checaremail(email)\n",
    "        if not eh_email:\n",
    "            print('Email inválido! Tente novamente!')\n",
    "        else:\n",
    "            index_com_email = [ind for ind, email_lista in enumerate(self.emails) if email_lista == email]\n",
    "            resultado = {\"Nomes\": [self.nomes[i] for i in index_com_email], \"Emails\": [self.emails[i] for i in index_com_email], \"Telefones\": [self.telefones[i] for i in index_com_email]}\n",
    "            return resultado\n",
    "    \n",
    "    def removercontato(self, nome):\n",
    "        index_sem_nome = [ind for ind, nome_lista in enumerate(self.nomes) if nome_lista != nome]\n",
    "        nome_nao_encontrado = len(index_sem_nome) == len(self.nomes)\n",
    "        if nome_nao_encontrado:\n",
    "            return print('Contato não encontrado!')\n",
    "        else:\n",
    "            self.nomes = [self.nomes[i] for i in index_sem_nome]\n",
    "            self.emails = [self.emails[i] for i in index_sem_nome]\n",
    "            self.telefones = [self.telefones[i] for i in index_sem_nome]\n",
    "            return print('Contato removido com sucesso!')"
   ]
  },
  {
   "cell_type": "code",
   "execution_count": 135,
   "metadata": {},
   "outputs": [
    {
     "name": "stdout",
     "output_type": "stream",
     "text": [
      "\n",
      "        Bem-vindo à lista de contatos contatos.csv!\n",
      "\n",
      "        Siga as instruções a seguir:\n",
      "\n",
      "        - Para procurar um contato utilizando o 'NOME', utilize 'objeto.procurarnome(\"INSIRA_O_NOME\")'\n",
      "\n",
      "        - Para procurar um contato utilizando o 'EMAIL', utilize 'objeto.procuraremail(\"INSIRA_O_EMAIL\")'\n",
      "\n",
      "        - Para procurar um contato utilizando o 'TELEFONE', utilize 'objeto.procurartel(\"INSIRA_O_TELEFONE\")'\n",
      "\n",
      "        \n",
      "\n",
      "        - Para remover um contato utilizando o 'NOME', utilize 'objeto.removercontato(\"INSIRA_O_NOME\")'\n",
      "\n",
      "        - Para adicionar um contato, utilize \n",
      "\n",
      "        'objeto.adicionarcontato(\"INSIRA_O_NOME\", \"INSIRA_O_EMAIL\", \"INSIRA_O_TELEFONE\")'\n",
      "\n",
      "        \n",
      "Contato adicionado com sucesso!\n",
      "Email inválido! Tente novamente!\n",
      "Telefone inválido! Tente novamente!\n"
     ]
    }
   ],
   "source": [
    "agenda2 = ConsultaAgenda('contatos.csv')\n",
    "agenda2.adicionarcontato('Samya', 's@com.com', '21999888999')\n",
    "agenda2.adicionarcontato('Fernando', 'scom.com', '2122345657')\n",
    "agenda2.adicionarcontato('Heloisa', 'helo@com.com', '11s123456')"
   ]
  },
  {
   "cell_type": "code",
   "execution_count": 137,
   "metadata": {},
   "outputs": [
    {
     "name": "stdout",
     "output_type": "stream",
     "text": [
      "Contato adicionado com sucesso!\n"
     ]
    },
    {
     "data": {
      "text/plain": [
       "{'Nomes': ['Samya', 'Samya', 'Samya'],\n",
       " 'Emails': ['s@com.com', 's@com.com', 's@com.com'],\n",
       " 'Telefones': ['21999888999', '21999888999', '21999888999']}"
      ]
     },
     "execution_count": 137,
     "metadata": {},
     "output_type": "execute_result"
    }
   ],
   "source": [
    "agenda2.adicionarcontato('Samya', 's@com.com', '21999888999')\n",
    "agenda2.procuraremail('s@com.com')"
   ]
  },
  {
   "cell_type": "code",
   "execution_count": 139,
   "metadata": {},
   "outputs": [
    {
     "name": "stdout",
     "output_type": "stream",
     "text": [
      "Contato não encontrado!\n"
     ]
    },
    {
     "data": {
      "text/plain": [
       "['jbutt@gmail.com',\n",
       " 'josephine_darakjy@darakjy.org',\n",
       " 'art@venere.org',\n",
       " 'lpaprocki@hotmail.com',\n",
       " 'donette.foller@cox.net',\n",
       " 'simona@morasca.com',\n",
       " 'mitsue_tollner@yahoo.com',\n",
       " 'leota@hotmail.com',\n",
       " 'sage_wieser@cox.net',\n",
       " 'kris@gmail.com',\n",
       " 'minna_amigon@yahoo.com',\n",
       " 'amaclead@gmail.com',\n",
       " 'kiley.caldarera@aol.com',\n",
       " 'gruta@cox.net',\n",
       " 'calbares@gmail.com',\n",
       " 'mattie@aol.com',\n",
       " 'meaghan@hotmail.com',\n",
       " 'gladys.rim@rim.org',\n",
       " 'yuki_whobrey@aol.com',\n",
       " 'letcher.flosi@yahoo.com',\n",
       " 'bette_nicka@cox.net',\n",
       " 'vinouye@aol.com',\n",
       " 'willard@hotmail.com',\n",
       " 'mroyster@royster.com',\n",
       " 'alisha@slusarski.com']"
      ]
     },
     "execution_count": 139,
     "metadata": {},
     "output_type": "execute_result"
    }
   ],
   "source": [
    "agenda2.removercontato('Samya')\n",
    "agenda2.emails"
   ]
  }
 ],
 "metadata": {
  "kernelspec": {
   "display_name": "Python 3",
   "language": "python",
   "name": "python3"
  },
  "language_info": {
   "codemirror_mode": {
    "name": "ipython",
    "version": 3
   },
   "file_extension": ".py",
   "mimetype": "text/x-python",
   "name": "python",
   "nbconvert_exporter": "python",
   "pygments_lexer": "ipython3",
   "version": "3.8.5"
  }
 },
 "nbformat": 4,
 "nbformat_minor": 4
}
