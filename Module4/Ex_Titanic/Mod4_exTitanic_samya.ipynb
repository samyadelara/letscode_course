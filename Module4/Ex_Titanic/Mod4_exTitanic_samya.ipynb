{
 "cells": [
  {
   "cell_type": "markdown",
   "metadata": {},
   "source": [
    "# Let's Code - Santander Coders (turma 806)\n",
    "## Módulo 4 - Machine Learning\n",
    "### Exercício Titanic por Samya de Lara Pinheiro - Árvore de Decisão\n",
    "Crie uma arvore de decisão para os dados do Titanic, avaliando se os passageiros vão sobreviver ou não. (Cuidado com a idade em anos/meses).  \n",
    "Para pegar os dados, use: https://www.kaggle.com/c/titanic/data  \n",
    "Proponha uma otimização dos hiperparâmetros max_depth e min_samples_leaf e avalie os resultados"
   ]
  },
  {
   "cell_type": "code",
   "execution_count": 65,
   "metadata": {},
   "outputs": [],
   "source": [
    "# importanto pacotes \n",
    "import pandas as pd\n",
    "from sklearn import preprocessing\n",
    "from sklearn.dummy import DummyClassifier\n",
    "from sklearn.tree import DecisionTreeClassifier\n",
    "from sklearn.metrics import classification_report\n",
    "from sklearn.model_selection import RandomizedSearchCV\n",
    "from scipy.stats import randint\n",
    "import matplotlib.pyplot as plt\n",
    "import seaborn as sns"
   ]
  },
  {
   "cell_type": "code",
   "execution_count": 6,
   "metadata": {},
   "outputs": [],
   "source": [
    "# ler arquivo de treino\n",
    "# dados recuperados do site do projeto no Kaggle - https://www.kaggle.com/c/titanic/data \n",
    "url_dados = 'https://raw.githubusercontent.com/samyadelara/letscode_course/main/Module4/Ex_Titanic/train.csv'\n",
    "titanic = pd.read_csv(url_dados)"
   ]
  },
  {
   "cell_type": "markdown",
   "metadata": {},
   "source": [
    "#### EDA"
   ]
  },
  {
   "cell_type": "markdown",
   "metadata": {},
   "source": [
    "Como o intuito do exercício é desenvolver modelo que classifique se o passageiro sobreviveu ou não, serão excluída features que identificam os passageiros (como *PassengerId*, *Name*, *Ticket*, *Cabin*) e possuem pouco potencial em caracterizar grupos de passageiros. Após esta limpeza será feita uma análise exploratória básica, para verificar a existência de potenciais outliers, análise preliminar das potenciais associações entre variáveis e padrões de variabilidade para as classes Sobrevivente/Não_Sobrevivente. "
   ]
  },
  {
   "cell_type": "code",
   "execution_count": 55,
   "metadata": {},
   "outputs": [
    {
     "data": {
      "text/html": [
       "<div>\n",
       "<style scoped>\n",
       "    .dataframe tbody tr th:only-of-type {\n",
       "        vertical-align: middle;\n",
       "    }\n",
       "\n",
       "    .dataframe tbody tr th {\n",
       "        vertical-align: top;\n",
       "    }\n",
       "\n",
       "    .dataframe thead th {\n",
       "        text-align: right;\n",
       "    }\n",
       "</style>\n",
       "<table border=\"1\" class=\"dataframe\">\n",
       "  <thead>\n",
       "    <tr style=\"text-align: right;\">\n",
       "      <th></th>\n",
       "      <th>Survived</th>\n",
       "      <th>Pclass</th>\n",
       "      <th>Sex</th>\n",
       "      <th>Age</th>\n",
       "      <th>SibSp</th>\n",
       "      <th>Parch</th>\n",
       "      <th>Fare</th>\n",
       "      <th>Embarked</th>\n",
       "    </tr>\n",
       "  </thead>\n",
       "  <tbody>\n",
       "    <tr>\n",
       "      <th>0</th>\n",
       "      <td>0</td>\n",
       "      <td>3</td>\n",
       "      <td>male</td>\n",
       "      <td>22.0</td>\n",
       "      <td>1</td>\n",
       "      <td>0</td>\n",
       "      <td>7.2500</td>\n",
       "      <td>S</td>\n",
       "    </tr>\n",
       "    <tr>\n",
       "      <th>1</th>\n",
       "      <td>1</td>\n",
       "      <td>1</td>\n",
       "      <td>female</td>\n",
       "      <td>38.0</td>\n",
       "      <td>1</td>\n",
       "      <td>0</td>\n",
       "      <td>71.2833</td>\n",
       "      <td>C</td>\n",
       "    </tr>\n",
       "    <tr>\n",
       "      <th>2</th>\n",
       "      <td>1</td>\n",
       "      <td>3</td>\n",
       "      <td>female</td>\n",
       "      <td>26.0</td>\n",
       "      <td>0</td>\n",
       "      <td>0</td>\n",
       "      <td>7.9250</td>\n",
       "      <td>S</td>\n",
       "    </tr>\n",
       "    <tr>\n",
       "      <th>3</th>\n",
       "      <td>1</td>\n",
       "      <td>1</td>\n",
       "      <td>female</td>\n",
       "      <td>35.0</td>\n",
       "      <td>1</td>\n",
       "      <td>0</td>\n",
       "      <td>53.1000</td>\n",
       "      <td>S</td>\n",
       "    </tr>\n",
       "    <tr>\n",
       "      <th>4</th>\n",
       "      <td>0</td>\n",
       "      <td>3</td>\n",
       "      <td>male</td>\n",
       "      <td>35.0</td>\n",
       "      <td>0</td>\n",
       "      <td>0</td>\n",
       "      <td>8.0500</td>\n",
       "      <td>S</td>\n",
       "    </tr>\n",
       "  </tbody>\n",
       "</table>\n",
       "</div>"
      ],
      "text/plain": [
       "   Survived  Pclass     Sex   Age  SibSp  Parch     Fare Embarked\n",
       "0         0       3    male  22.0      1      0   7.2500        S\n",
       "1         1       1  female  38.0      1      0  71.2833        C\n",
       "2         1       3  female  26.0      0      0   7.9250        S\n",
       "3         1       1  female  35.0      1      0  53.1000        S\n",
       "4         0       3    male  35.0      0      0   8.0500        S"
      ]
     },
     "execution_count": 55,
     "metadata": {},
     "output_type": "execute_result"
    }
   ],
   "source": [
    "# limpeza (drop) de features identificadoras\n",
    "df = titanic.drop(columns = ['PassengerId', 'Name', 'Ticket', 'Cabin'])\n",
    "df.head()"
   ]
  },
  {
   "cell_type": "code",
   "execution_count": 14,
   "metadata": {},
   "outputs": [
    {
     "data": {
      "text/plain": [
       "Text(0.5, 1.0, 'Survived counts in Titanic dataset')"
      ]
     },
     "execution_count": 14,
     "metadata": {},
     "output_type": "execute_result"
    },
    {
     "data": {
      "image/png": "[encoded data removed]",
      "text/plain": [
       "<Figure size 432x288 with 1 Axes>"
      ]
     },
     "metadata": {
      "needs_background": "light"
     },
     "output_type": "display_data"
    }
   ],
   "source": [
    "#cores padrão p/ classes Sobrevivente/Não_Sobrevivente\n",
    "cores = [\"indianred\", \"seagreen\"]\n",
    "\n",
    "# histograma geral\n",
    "sns.countplot(x=df['Survived'], palette = cores).set_title('Survived counts in Titanic dataset')"
   ]
  },
  {
   "cell_type": "code",
   "execution_count": 19,
   "metadata": {},
   "outputs": [
    {
     "data": {
      "text/plain": [
       "Text(0.5, 0.98, 'Boxplot - quantitative features \\n Titanic dataset')"
      ]
     },
     "execution_count": 19,
     "metadata": {},
     "output_type": "execute_result"
    },
    {
     "data": {
      "image/png": "[encoded data removed]",
      "text/plain": [
       "<Figure size 810x630 with 4 Axes>"
      ]
     },
     "metadata": {
      "needs_background": "light"
     },
     "output_type": "display_data"
    }
   ],
   "source": [
    "# box plots para variáveis quantitativas\n",
    "num_var = ['Age', 'Fare']\n",
    "fig = plt.figure(figsize=(9, 7), dpi= 90)\n",
    "fig.subplots_adjust(hspace=1, wspace=0.4)\n",
    "for i in range(0,2):\n",
    "    ax = fig.add_subplot(2, 2, i*2+1)\n",
    "    sns.boxplot(x=df[num_var[i]], y=df['Survived'].astype('category'), ax = ax, palette = cores)\n",
    "    ax = fig.add_subplot(2, 2, i*2+2)\n",
    "    sns.boxplot(x=df[num_var[i]], ax = ax, color = 'slateblue')\n",
    "fig.suptitle('Boxplot - quantitative features \\n Titanic dataset')"
   ]
  },
  {
   "cell_type": "code",
   "execution_count": 33,
   "metadata": {},
   "outputs": [
    {
     "data": {
      "text/plain": [
       "Text(0.5, 0.98, 'Histogram - qualitative features \\n Titanic dataset')"
      ]
     },
     "execution_count": 33,
     "metadata": {},
     "output_type": "execute_result"
    },
    {
     "data": {
      "image/png": "[encoded data removed]",
      "text/plain": [
       "<Figure size 810x630 with 5 Axes>"
      ]
     },
     "metadata": {
      "needs_background": "light"
     },
     "output_type": "display_data"
    }
   ],
   "source": [
    "# histogramas para variáveis qualitativas\n",
    "cat_var = ['Pclass', 'Sex', 'SibSp', 'Parch', 'Embarked']\n",
    "fig = plt.figure(figsize=(9, 7), dpi= 90)\n",
    "fig.subplots_adjust(hspace=1, wspace=0.4)\n",
    "for i in range(0,5):\n",
    "    ax = fig.add_subplot(2, 3, i+1)\n",
    "    sns.histplot(x=df[cat_var[i]].astype('category'), hue=df['Survived'].astype('category'), multiple=\"dodge\", palette=cores, ax = ax)\n",
    "fig.suptitle('Histogram - qualitative features \\n Titanic dataset')"
   ]
  },
  {
   "cell_type": "markdown",
   "metadata": {},
   "source": [
    "A não-sobrevivência aparenta ser característica prevalente em grupo:\n",
    "- pessoas menos jovens (SALVEM as CRIANÇAS!!!)\n",
    "- que pagou menores tarifas (indicando potencial associação com status socioecoômico)\n",
    "- da classe 3\n",
    "- de homens\n",
    "- que embarcaram em Southampton"
   ]
  },
  {
   "cell_type": "markdown",
   "metadata": {},
   "source": [
    "#### Tratamento dos dados  \n",
    "A base apresenta alguns dados faltantes que devem ser tratados antes do processo de modelagem. O relatório de `df.info` indica que a variável idade apresenta maior frequência de dados faltantes. Em acidentes como o do Titanic, é conhecida a priorização de mulheres, idosos e crianças na evacuação e ações de salvamento. Assim, o tratamento da variável idade com inserção de valor médio, moda ou outra estratégia, definitivamente irá enviezar a modelagem. Como o enfoque do exercício não era avaliar o impacto destas estratégias, optou-se pela exclusão dos registros (`dropna`) que contém valores faltantes. A base foi reduzida de 891 registros para 712 (redução de 20%).  "
   ]
  },
  {
   "cell_type": "code",
   "execution_count": 36,
   "metadata": {},
   "outputs": [
    {
     "name": "stdout",
     "output_type": "stream",
     "text": [
      "<class 'pandas.core.frame.DataFrame'>\n",
      "RangeIndex: 891 entries, 0 to 890\n",
      "Data columns (total 8 columns):\n",
      " #   Column    Non-Null Count  Dtype  \n",
      "---  ------    --------------  -----  \n",
      " 0   Survived  891 non-null    int64  \n",
      " 1   Pclass    891 non-null    int64  \n",
      " 2   Sex       891 non-null    object \n",
      " 3   Age       714 non-null    float64\n",
      " 4   SibSp     891 non-null    int64  \n",
      " 5   Parch     891 non-null    int64  \n",
      " 6   Fare      891 non-null    float64\n",
      " 7   Embarked  889 non-null    object \n",
      "dtypes: float64(2), int64(4), object(2)\n",
      "memory usage: 55.8+ KB\n"
     ]
    }
   ],
   "source": [
    "df.info()"
   ]
  },
  {
   "cell_type": "code",
   "execution_count": 56,
   "metadata": {},
   "outputs": [],
   "source": [
    "# drop dados faltantes\n",
    "df = df.dropna()"
   ]
  },
  {
   "cell_type": "markdown",
   "metadata": {},
   "source": [
    "Após a limpeza, é feita a preparação da base para a aplicação do algoritmo de árvore de decisão. A implementação utilizada neste exercício só aceita dados numéricos. Assim, foram definidos códigos para as variáveis categóricas nominais: *Sex* codificada com *Sex_male* = 1 (homem) ou 0 (mulher) e *Embarked* com `label encoder`."
   ]
  },
  {
   "cell_type": "code",
   "execution_count": 57,
   "metadata": {},
   "outputs": [
    {
     "data": {
      "text/html": [
       "<div>\n",
       "<style scoped>\n",
       "    .dataframe tbody tr th:only-of-type {\n",
       "        vertical-align: middle;\n",
       "    }\n",
       "\n",
       "    .dataframe tbody tr th {\n",
       "        vertical-align: top;\n",
       "    }\n",
       "\n",
       "    .dataframe thead th {\n",
       "        text-align: right;\n",
       "    }\n",
       "</style>\n",
       "<table border=\"1\" class=\"dataframe\">\n",
       "  <thead>\n",
       "    <tr style=\"text-align: right;\">\n",
       "      <th></th>\n",
       "      <th>Survived</th>\n",
       "      <th>Pclass</th>\n",
       "      <th>Sex</th>\n",
       "      <th>Age</th>\n",
       "      <th>SibSp</th>\n",
       "      <th>Parch</th>\n",
       "      <th>Fare</th>\n",
       "      <th>Embarked</th>\n",
       "    </tr>\n",
       "  </thead>\n",
       "  <tbody>\n",
       "    <tr>\n",
       "      <th>0</th>\n",
       "      <td>0</td>\n",
       "      <td>3</td>\n",
       "      <td>male</td>\n",
       "      <td>22.0</td>\n",
       "      <td>1</td>\n",
       "      <td>0</td>\n",
       "      <td>7.2500</td>\n",
       "      <td>S</td>\n",
       "    </tr>\n",
       "    <tr>\n",
       "      <th>1</th>\n",
       "      <td>1</td>\n",
       "      <td>1</td>\n",
       "      <td>female</td>\n",
       "      <td>38.0</td>\n",
       "      <td>1</td>\n",
       "      <td>0</td>\n",
       "      <td>71.2833</td>\n",
       "      <td>C</td>\n",
       "    </tr>\n",
       "    <tr>\n",
       "      <th>2</th>\n",
       "      <td>1</td>\n",
       "      <td>3</td>\n",
       "      <td>female</td>\n",
       "      <td>26.0</td>\n",
       "      <td>0</td>\n",
       "      <td>0</td>\n",
       "      <td>7.9250</td>\n",
       "      <td>S</td>\n",
       "    </tr>\n",
       "    <tr>\n",
       "      <th>3</th>\n",
       "      <td>1</td>\n",
       "      <td>1</td>\n",
       "      <td>female</td>\n",
       "      <td>35.0</td>\n",
       "      <td>1</td>\n",
       "      <td>0</td>\n",
       "      <td>53.1000</td>\n",
       "      <td>S</td>\n",
       "    </tr>\n",
       "    <tr>\n",
       "      <th>4</th>\n",
       "      <td>0</td>\n",
       "      <td>3</td>\n",
       "      <td>male</td>\n",
       "      <td>35.0</td>\n",
       "      <td>0</td>\n",
       "      <td>0</td>\n",
       "      <td>8.0500</td>\n",
       "      <td>S</td>\n",
       "    </tr>\n",
       "  </tbody>\n",
       "</table>\n",
       "</div>"
      ],
      "text/plain": [
       "   Survived  Pclass     Sex   Age  SibSp  Parch     Fare Embarked\n",
       "0         0       3    male  22.0      1      0   7.2500        S\n",
       "1         1       1  female  38.0      1      0  71.2833        C\n",
       "2         1       3  female  26.0      0      0   7.9250        S\n",
       "3         1       1  female  35.0      1      0  53.1000        S\n",
       "4         0       3    male  35.0      0      0   8.0500        S"
      ]
     },
     "execution_count": 57,
     "metadata": {},
     "output_type": "execute_result"
    }
   ],
   "source": [
    "df.head()"
   ]
  },
  {
   "cell_type": "code",
   "execution_count": 58,
   "metadata": {},
   "outputs": [
    {
     "data": {
      "text/html": [
       "<div>\n",
       "<style scoped>\n",
       "    .dataframe tbody tr th:only-of-type {\n",
       "        vertical-align: middle;\n",
       "    }\n",
       "\n",
       "    .dataframe tbody tr th {\n",
       "        vertical-align: top;\n",
       "    }\n",
       "\n",
       "    .dataframe thead th {\n",
       "        text-align: right;\n",
       "    }\n",
       "</style>\n",
       "<table border=\"1\" class=\"dataframe\">\n",
       "  <thead>\n",
       "    <tr style=\"text-align: right;\">\n",
       "      <th></th>\n",
       "      <th>Survived</th>\n",
       "      <th>Pclass</th>\n",
       "      <th>Age</th>\n",
       "      <th>SibSp</th>\n",
       "      <th>Parch</th>\n",
       "      <th>Fare</th>\n",
       "      <th>Embarked</th>\n",
       "      <th>sex_male</th>\n",
       "    </tr>\n",
       "  </thead>\n",
       "  <tbody>\n",
       "    <tr>\n",
       "      <th>0</th>\n",
       "      <td>0</td>\n",
       "      <td>3</td>\n",
       "      <td>22.0</td>\n",
       "      <td>1</td>\n",
       "      <td>0</td>\n",
       "      <td>7.2500</td>\n",
       "      <td>2</td>\n",
       "      <td>1</td>\n",
       "    </tr>\n",
       "    <tr>\n",
       "      <th>1</th>\n",
       "      <td>1</td>\n",
       "      <td>1</td>\n",
       "      <td>38.0</td>\n",
       "      <td>1</td>\n",
       "      <td>0</td>\n",
       "      <td>71.2833</td>\n",
       "      <td>0</td>\n",
       "      <td>0</td>\n",
       "    </tr>\n",
       "    <tr>\n",
       "      <th>2</th>\n",
       "      <td>1</td>\n",
       "      <td>3</td>\n",
       "      <td>26.0</td>\n",
       "      <td>0</td>\n",
       "      <td>0</td>\n",
       "      <td>7.9250</td>\n",
       "      <td>2</td>\n",
       "      <td>0</td>\n",
       "    </tr>\n",
       "    <tr>\n",
       "      <th>3</th>\n",
       "      <td>1</td>\n",
       "      <td>1</td>\n",
       "      <td>35.0</td>\n",
       "      <td>1</td>\n",
       "      <td>0</td>\n",
       "      <td>53.1000</td>\n",
       "      <td>2</td>\n",
       "      <td>0</td>\n",
       "    </tr>\n",
       "    <tr>\n",
       "      <th>4</th>\n",
       "      <td>0</td>\n",
       "      <td>3</td>\n",
       "      <td>35.0</td>\n",
       "      <td>0</td>\n",
       "      <td>0</td>\n",
       "      <td>8.0500</td>\n",
       "      <td>2</td>\n",
       "      <td>1</td>\n",
       "    </tr>\n",
       "  </tbody>\n",
       "</table>\n",
       "</div>"
      ],
      "text/plain": [
       "   Survived  Pclass   Age  SibSp  Parch     Fare  Embarked  sex_male\n",
       "0         0       3  22.0      1      0   7.2500         2         1\n",
       "1         1       1  38.0      1      0  71.2833         0         0\n",
       "2         1       3  26.0      0      0   7.9250         2         0\n",
       "3         1       1  35.0      1      0  53.1000         2         0\n",
       "4         0       3  35.0      0      0   8.0500         2         1"
      ]
     },
     "execution_count": 58,
     "metadata": {},
     "output_type": "execute_result"
    }
   ],
   "source": [
    "# codificando variáveis categóricas/qualitativas nominais\n",
    "\n",
    "le = preprocessing.LabelEncoder()\n",
    "tmp = le.fit_transform(df['Embarked'])\n",
    "df['Embarked'] = tmp\n",
    "\n",
    "male = pd.get_dummies(df['Sex'], prefix='sex', drop_first = True)\n",
    "df = pd.concat([df, male], axis=1)\n",
    "df = df.drop(columns='Sex')\n",
    "df.head()\n",
    "    "
   ]
  },
  {
   "cell_type": "markdown",
   "metadata": {},
   "source": [
    "O algoritmo de árvore de decisão é menos sensível à dimensão das features. Logo, não é impactado pela amplitude de variáveis e não exige a padronização para a modelagem."
   ]
  },
  {
   "cell_type": "markdown",
   "metadata": {},
   "source": [
    "#### Definição de amostra Treino/Teste\n",
    "O foco do exercício é a prática de técnicas de otimização de hiperparâmetros. Não serão exploradas técnicas diferenciadas de amostragem e particionaremos a base em **TREINO** (70%) e **VALIDAÇÃO** (30%) - HoldOut. Apenas na otimização de hiperparâmetros, será feita validação cruzada com base no método Kfold. Reportaremos a análise de resultados baseada na performance na amostra de validação."
   ]
  },
  {
   "cell_type": "code",
   "execution_count": 59,
   "metadata": {},
   "outputs": [],
   "source": [
    "# particionando a base de dados\n",
    "from sklearn.model_selection import train_test_split \n",
    "X = df.drop(['Survived'], axis = 1)\n",
    "y = df['Survived']\n",
    "\n",
    "X_train, X_valid, y_train, y_valid = train_test_split(X,y,\n",
    "test_size=0.3,\n",
    "random_state=42,\n",
    "stratify=y)"
   ]
  },
  {
   "cell_type": "markdown",
   "metadata": {},
   "source": [
    "#### Modelagem  \n",
    "- Modelo baseline  \n",
    "Pela análise do histograma inicial, sabemos que mais pessoas morreram do que sobreviveram no acidente. Assim, nosso modelo baseline irá considerar um classificador baseado na moda, prevendo todos os casos como não sobreviventes (modelo trágico).\n",
    "\n",
    "> F1-score weighted = 0.44"
   ]
  },
  {
   "cell_type": "code",
   "execution_count": 62,
   "metadata": {},
   "outputs": [
    {
     "name": "stdout",
     "output_type": "stream",
     "text": [
      "              precision    recall  f1-score   support\n",
      "\n",
      "           0       0.59      1.00      0.74       127\n",
      "           1       0.00      0.00      0.00        87\n",
      "\n",
      "    accuracy                           0.59       214\n",
      "   macro avg       0.30      0.50      0.37       214\n",
      "weighted avg       0.35      0.59      0.44       214\n",
      "\n"
     ]
    },
    {
     "name": "stderr",
     "output_type": "stream",
     "text": [
      "c:\\Users\\sllap\\OneDrive\\Documents\\DataScience\\Cursos avulsos\\LetsCode_Santander\\Aulas_Coders\\Modulo4_DS\\modulo04-env\\lib\\site-packages\\sklearn\\metrics\\_classification.py:1318: UndefinedMetricWarning: Precision and F-score are ill-defined and being set to 0.0 in labels with no predicted samples. Use `zero_division` parameter to control this behavior.\n",
      "  _warn_prf(average, modifier, msg_start, len(result))\n",
      "c:\\Users\\sllap\\OneDrive\\Documents\\DataScience\\Cursos avulsos\\LetsCode_Santander\\Aulas_Coders\\Modulo4_DS\\modulo04-env\\lib\\site-packages\\sklearn\\metrics\\_classification.py:1318: UndefinedMetricWarning: Precision and F-score are ill-defined and being set to 0.0 in labels with no predicted samples. Use `zero_division` parameter to control this behavior.\n",
      "  _warn_prf(average, modifier, msg_start, len(result))\n",
      "c:\\Users\\sllap\\OneDrive\\Documents\\DataScience\\Cursos avulsos\\LetsCode_Santander\\Aulas_Coders\\Modulo4_DS\\modulo04-env\\lib\\site-packages\\sklearn\\metrics\\_classification.py:1318: UndefinedMetricWarning: Precision and F-score are ill-defined and being set to 0.0 in labels with no predicted samples. Use `zero_division` parameter to control this behavior.\n",
      "  _warn_prf(average, modifier, msg_start, len(result))\n"
     ]
    }
   ],
   "source": [
    "# baseline = MODA\n",
    "model = DummyClassifier()\n",
    "model.fit(X_train, y_train)\n",
    "y_pred = model.predict(X_valid)\n",
    "print(classification_report(y_valid, y_pred))"
   ]
  },
  {
   "cell_type": "markdown",
   "metadata": {},
   "source": [
    "Vamos agora propor modelos baseados no algoritmo de Árvore de Decisão. Inicialmente, façamos a árvore com base na configuração default da implementação do `sklearn`.  \n",
    "  \n",
    "- Árvore 0  \n",
    "> F1-score weighted = 0.70"
   ]
  },
  {
   "cell_type": "code",
   "execution_count": 63,
   "metadata": {},
   "outputs": [
    {
     "name": "stdout",
     "output_type": "stream",
     "text": [
      "              precision    recall  f1-score   support\n",
      "\n",
      "           0       0.74      0.76      0.75       127\n",
      "           1       0.63      0.61      0.62        87\n",
      "\n",
      "    accuracy                           0.70       214\n",
      "   macro avg       0.68      0.68      0.68       214\n",
      "weighted avg       0.69      0.70      0.70       214\n",
      "\n"
     ]
    }
   ],
   "source": [
    "# árvore 0\n",
    "model = DecisionTreeClassifier(random_state=42)\n",
    "arv0 = model.get_params() #guarde esse parametro\n",
    "model.fit(X_train, y_train)\n",
    "y_pred = model.predict(X_valid)\n",
    "print(classification_report(y_valid, y_pred))"
   ]
  },
  {
   "cell_type": "code",
   "execution_count": 64,
   "metadata": {},
   "outputs": [
    {
     "data": {
      "text/plain": [
       "{'ccp_alpha': 0.0,\n",
       " 'class_weight': None,\n",
       " 'criterion': 'gini',\n",
       " 'max_depth': None,\n",
       " 'max_features': None,\n",
       " 'max_leaf_nodes': None,\n",
       " 'min_impurity_decrease': 0.0,\n",
       " 'min_samples_leaf': 1,\n",
       " 'min_samples_split': 2,\n",
       " 'min_weight_fraction_leaf': 0.0,\n",
       " 'random_state': 42,\n",
       " 'splitter': 'best'}"
      ]
     },
     "execution_count": 64,
     "metadata": {},
     "output_type": "execute_result"
    }
   ],
   "source": [
    "arv0"
   ]
  },
  {
   "cell_type": "markdown",
   "metadata": {},
   "source": [
    "Ao avaliar os hiperparâmetros do modelo Árvore 0, percebemos que não há limites para a profundidade da árvore (*max_depth*). Adiante, faremos uma otimização de parâmetro com base em grid search aleatório (mais performático)."
   ]
  },
  {
   "cell_type": "code",
   "execution_count": 66,
   "metadata": {},
   "outputs": [],
   "source": [
    "# definindo espaço do grid\n",
    "espaco_hiperparametros ={\n",
    "    'max_depth': randint(3, 15),\n",
    "    'min_samples_leaf': randint(1, 50)\n",
    "}"
   ]
  },
  {
   "cell_type": "code",
   "execution_count": 69,
   "metadata": {},
   "outputs": [
    {
     "data": {
      "text/plain": [
       "{'max_depth': 6, 'min_samples_leaf': 4}"
      ]
     },
     "execution_count": 69,
     "metadata": {},
     "output_type": "execute_result"
    }
   ],
   "source": [
    "# rodando o modelo no grid\n",
    "rand_search = RandomizedSearchCV(model, espaco_hiperparametros, cv=3, n_iter=50)\n",
    "search = rand_search.fit(X, y)\n",
    "rand_search.best_params_"
   ]
  },
  {
   "cell_type": "markdown",
   "metadata": {},
   "source": [
    "Nossa otimização com 50 iterações identificou a profunidade ótima de 6 e mínimo de amostras por folha de 4. Iremos então ajustar o modelo Árvore ótima na amostra de teste previamente definida e verificar sua performance no set de validação (para efeitos de comparação com os outros métodos).  \n",
    "- Árvore Ótima  \n",
    "> F1-score weighted = 0.80"
   ]
  },
  {
   "cell_type": "code",
   "execution_count": 70,
   "metadata": {},
   "outputs": [
    {
     "name": "stdout",
     "output_type": "stream",
     "text": [
      "              precision    recall  f1-score   support\n",
      "\n",
      "           0       0.79      0.91      0.85       127\n",
      "           1       0.84      0.64      0.73        87\n",
      "\n",
      "    accuracy                           0.80       214\n",
      "   macro avg       0.81      0.78      0.79       214\n",
      "weighted avg       0.81      0.80      0.80       214\n",
      "\n"
     ]
    }
   ],
   "source": [
    "# árvore ótima\n",
    "model = DecisionTreeClassifier(random_state=42, max_depth=6, min_samples_leaf=4)\n",
    "arvOtima = model.get_params() #guarde esse parametro\n",
    "model.fit(X_train, y_train)\n",
    "y_pred = model.predict(X_valid)\n",
    "print(classification_report(y_valid, y_pred))"
   ]
  },
  {
   "cell_type": "markdown",
   "metadata": {},
   "source": [
    "A otimização de hiperparâmetros é uma estratégia chave no ajuste de modelos de machine learning. As implementações de grid.search em `Python` são muito flexíveis e permitem que o cientista explore diversas combinações, convergindo para a configuração que maximiza os resultados de interesse.  \n",
    "No exemplo explorado do exercício, foi possível melhorar a métrica de análise de performance do modelo de classificação escolhida, otimizando o ajuste do modelo tanto na classe de sobreviventes quanto não sobreviventes."
   ]
  }
 ],
 "metadata": {
  "interpreter": {
   "hash": "7bbb92b361b8d732e162ff274966d95e1131f50862541d1725a1f088aad0771b"
  },
  "kernelspec": {
   "display_name": "Python 3.7.7 ('modulo04-env': venv)",
   "language": "python",
   "name": "python3"
  },
  "language_info": {
   "codemirror_mode": {
    "name": "ipython",
    "version": 3
   },
   "file_extension": ".py",
   "mimetype": "text/x-python",
   "name": "python",
   "nbconvert_exporter": "python",
   "pygments_lexer": "ipython3",
   "version": "3.7.7"
  },
  "orig_nbformat": 4
 },
 "nbformat": 4,
 "nbformat_minor": 2
}
