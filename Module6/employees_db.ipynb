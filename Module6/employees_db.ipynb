{
 "cells": [
  {
   "cell_type": "markdown",
   "metadata": {},
   "source": [
    "# Exercício banco de dados - Módulo 6 (Santander Coders 806)\n",
    "## Integração Python\n",
    "\n",
    "Alunos: \n",
    "- Samya de Lara Pinheiro\n",
    "- Vitor Quintella  \n",
    "\n",
    "\n",
    "> *Parte 2 - Database Employees*"
   ]
  },
  {
   "cell_type": "markdown",
   "metadata": {},
   "source": [
    "#### Create Database"
   ]
  },
  {
   "cell_type": "code",
   "execution_count": 1,
   "metadata": {},
   "outputs": [],
   "source": [
    "# read pwd file\n",
    "with open('postgremdp.txt') as f:\n",
    "    mdp = f.readlines()[0]\n"
   ]
  },
  {
   "cell_type": "code",
   "execution_count": 18,
   "metadata": {},
   "outputs": [
    {
     "name": "stdout",
     "output_type": "stream",
     "text": [
      "Base Employees criada!\n"
     ]
    }
   ],
   "source": [
    "# test connection to database called ibge\n",
    "import psycopg2\n",
    "from psycopg2.extensions import ISOLATION_LEVEL_AUTOCOMMIT\n",
    "\n",
    "conn = psycopg2.connect(\n",
    "    host=\"localhost\",\n",
    "    user=\"postgres\",\n",
    "    password=mdp)\n",
    "conn.set_isolation_level(ISOLATION_LEVEL_AUTOCOMMIT)\n",
    "\n",
    "# obtain a DB Cursor\n",
    "\n",
    "cursor = conn.cursor()\n",
    "\n",
    "name_Database = \"Employees\"\n",
    "\n",
    "# create table statement\n",
    "\n",
    "sqlCreateDatabase = \"create database \"+name_Database+\";\"\n",
    "\n",
    "# create a table in PostgreSQL database\n",
    "\n",
    "cursor.execute(sqlCreateDatabase)\n",
    "\n",
    "cursor.close()\n",
    "conn.close()\n",
    "print('Base Employees criada!')"
   ]
  },
  {
   "cell_type": "markdown",
   "metadata": {},
   "source": [
    "#### Create Tables"
   ]
  },
  {
   "cell_type": "code",
   "execution_count": 19,
   "metadata": {},
   "outputs": [
    {
     "name": "stdout",
     "output_type": "stream",
     "text": [
      "Criando Tabelas...\n",
      "Tabelas criadas! Conexão encerrada.\n"
     ]
    }
   ],
   "source": [
    "# create tables\n",
    "table_dept = \"CREATE TABLE IF NOT EXISTS Departments(Code int primary key, Name text, Budget real)\"\n",
    "table_employ = \"CREATE TABLE IF NOT EXISTS Employees(SSN int primary key, Name text, LastName text, Department int, FOREIGN KEY (Department) REFERENCES Departments (Code) )\"\n",
    "\n",
    "## connect\n",
    "conn = psycopg2.connect(\n",
    "    host=\"localhost\",\n",
    "    database=\"employees\",\n",
    "    user=\"postgres\",\n",
    "    password=mdp)\n",
    "## cursor\n",
    "cur = conn.cursor()\n",
    "\n",
    "print(\"Criando Tabelas...\")\n",
    "\n",
    "try:\n",
    "    cur.execute(table_dept)   \n",
    "    conn.commit()\n",
    "    cur.execute(table_employ)   \n",
    "    conn.commit()\n",
    "    cur.close()\n",
    "\n",
    "except (Exception, psycopg2.DatabaseError) as error:\n",
    "    print(error)\n",
    "finally:\n",
    "    if conn is not None:\n",
    "        conn.close()\n",
    "        print('Tabelas criadas! Conexão encerrada.')"
   ]
  },
  {
   "cell_type": "markdown",
   "metadata": {},
   "source": [
    "#### Povoando Tabelas"
   ]
  },
  {
   "cell_type": "code",
   "execution_count": 20,
   "metadata": {},
   "outputs": [],
   "source": [
    "def insert_depart(_Code, _Name, _Budget):\n",
    "    \n",
    "    \"\"\" Insere um novo registro na tabela Departments \"\"\"\n",
    "    \n",
    "    sql = f\"INSERT INTO Departments (Code, Name, Budget) VALUES({_Code},'{_Name}','{_Budget}') ;\"\n",
    "    conn = None\n",
    "    \n",
    "    try:\n",
    "        ## connect\n",
    "        conn = psycopg2.connect(\n",
    "            host=\"localhost\",\n",
    "            database=\"employees\",\n",
    "            user=\"postgres\",\n",
    "            password=mdp)\n",
    "        ## cursor\n",
    "        cur = conn.cursor()\n",
    "\n",
    "        print(\"Povoando Tabela Departments...\")\n",
    "        # execute the INSERT statement\n",
    "        cur.execute(sql)\n",
    "        conn.commit()\n",
    "        cur.close()\n",
    "\n",
    "    except (Exception, psycopg2.DatabaseError) as error:\n",
    "        print(error)\n",
    "    finally:\n",
    "        if conn is not None:\n",
    "            conn.close()\n",
    "    \n",
    "    return print(_Code)"
   ]
  },
  {
   "cell_type": "code",
   "execution_count": 21,
   "metadata": {},
   "outputs": [
    {
     "name": "stdout",
     "output_type": "stream",
     "text": [
      "Povoando Tabela Departments...\n",
      "14\n",
      "Povoando Tabela Departments...\n",
      "37\n",
      "Povoando Tabela Departments...\n",
      "59\n",
      "Povoando Tabela Departments...\n",
      "77\n"
     ]
    }
   ],
   "source": [
    "insert_depart(14, 'IT', 65000)\n",
    "insert_depart(37, 'Accounting', 15000)\n",
    "insert_depart(59, 'Human Resources', 240000)\n",
    "insert_depart(77, 'Research', 55000)"
   ]
  },
  {
   "cell_type": "code",
   "execution_count": 28,
   "metadata": {},
   "outputs": [
    {
     "data": {
      "text/html": [
       "<div>\n",
       "<style scoped>\n",
       "    .dataframe tbody tr th:only-of-type {\n",
       "        vertical-align: middle;\n",
       "    }\n",
       "\n",
       "    .dataframe tbody tr th {\n",
       "        vertical-align: top;\n",
       "    }\n",
       "\n",
       "    .dataframe thead th {\n",
       "        text-align: right;\n",
       "    }\n",
       "</style>\n",
       "<table border=\"1\" class=\"dataframe\">\n",
       "  <thead>\n",
       "    <tr style=\"text-align: right;\">\n",
       "      <th></th>\n",
       "      <th>ssn</th>\n",
       "      <th>name</th>\n",
       "      <th>lastname</th>\n",
       "      <th>department</th>\n",
       "    </tr>\n",
       "  </thead>\n",
       "  <tbody>\n",
       "    <tr>\n",
       "      <th>0</th>\n",
       "      <td>123234877</td>\n",
       "      <td>Michael</td>\n",
       "      <td>Rogers</td>\n",
       "      <td>14</td>\n",
       "    </tr>\n",
       "    <tr>\n",
       "      <th>1</th>\n",
       "      <td>152934485</td>\n",
       "      <td>Anand</td>\n",
       "      <td>Manikutty</td>\n",
       "      <td>14</td>\n",
       "    </tr>\n",
       "    <tr>\n",
       "      <th>2</th>\n",
       "      <td>222364883</td>\n",
       "      <td>Carol</td>\n",
       "      <td>Smith</td>\n",
       "      <td>37</td>\n",
       "    </tr>\n",
       "    <tr>\n",
       "      <th>3</th>\n",
       "      <td>326587417</td>\n",
       "      <td>Joe</td>\n",
       "      <td>Stevens</td>\n",
       "      <td>37</td>\n",
       "    </tr>\n",
       "    <tr>\n",
       "      <th>4</th>\n",
       "      <td>332154719</td>\n",
       "      <td>Mary-Anne</td>\n",
       "      <td>Foster</td>\n",
       "      <td>14</td>\n",
       "    </tr>\n",
       "    <tr>\n",
       "      <th>5</th>\n",
       "      <td>332569843</td>\n",
       "      <td>George</td>\n",
       "      <td>O'Donnell</td>\n",
       "      <td>77</td>\n",
       "    </tr>\n",
       "    <tr>\n",
       "      <th>6</th>\n",
       "      <td>546523478</td>\n",
       "      <td>John</td>\n",
       "      <td>Doe</td>\n",
       "      <td>59</td>\n",
       "    </tr>\n",
       "    <tr>\n",
       "      <th>7</th>\n",
       "      <td>631231482</td>\n",
       "      <td>David</td>\n",
       "      <td>Smith</td>\n",
       "      <td>77</td>\n",
       "    </tr>\n",
       "    <tr>\n",
       "      <th>8</th>\n",
       "      <td>654873219</td>\n",
       "      <td>Zacary</td>\n",
       "      <td>Efron</td>\n",
       "      <td>59</td>\n",
       "    </tr>\n",
       "    <tr>\n",
       "      <th>9</th>\n",
       "      <td>745685214</td>\n",
       "      <td>Eric</td>\n",
       "      <td>Goldsmith</td>\n",
       "      <td>59</td>\n",
       "    </tr>\n",
       "    <tr>\n",
       "      <th>10</th>\n",
       "      <td>845657245</td>\n",
       "      <td>Elizabeth</td>\n",
       "      <td>Doe</td>\n",
       "      <td>14</td>\n",
       "    </tr>\n",
       "    <tr>\n",
       "      <th>11</th>\n",
       "      <td>845657246</td>\n",
       "      <td>Kumar</td>\n",
       "      <td>Swamy</td>\n",
       "      <td>14</td>\n",
       "    </tr>\n",
       "  </tbody>\n",
       "</table>\n",
       "</div>"
      ],
      "text/plain": [
       "          ssn       name   lastname  department\n",
       "0   123234877    Michael     Rogers          14\n",
       "1   152934485      Anand  Manikutty          14\n",
       "2   222364883      Carol      Smith          37\n",
       "3   326587417        Joe    Stevens          37\n",
       "4   332154719  Mary-Anne     Foster          14\n",
       "5   332569843     George  O'Donnell          77\n",
       "6   546523478       John        Doe          59\n",
       "7   631231482      David      Smith          77\n",
       "8   654873219     Zacary      Efron          59\n",
       "9   745685214       Eric  Goldsmith          59\n",
       "10  845657245  Elizabeth        Doe          14\n",
       "11  845657246      Kumar      Swamy          14"
      ]
     },
     "execution_count": 28,
     "metadata": {},
     "output_type": "execute_result"
    }
   ],
   "source": [
    "# read csv for employees\n",
    "import pandas as pd\n",
    "employ_df = pd.read_csv('employees.csv')\n",
    "employ_df"
   ]
  },
  {
   "cell_type": "code",
   "execution_count": 65,
   "metadata": {},
   "outputs": [
    {
     "name": "stdout",
     "output_type": "stream",
     "text": [
      "ssn,name,lastname,department\n",
      "Inserida linha 0\n",
      "Inserida linha 1\n",
      "Inserida linha 2\n",
      "Inserida linha 3\n",
      "Inserida linha 4\n",
      "Inserida linha 5\n",
      "Inserida linha 6\n",
      "Inserida linha 7\n",
      "Inserida linha 8\n",
      "Inserida linha 9\n",
      "Inserida linha 10\n",
      "Inserida linha 11\n",
      "Tabela Employees povoada! Conexão encerrada.\n"
     ]
    }
   ],
   "source": [
    "# feed the table\n",
    "## connect\n",
    "conn = psycopg2.connect(\n",
    "    host=\"localhost\",\n",
    "    database=\"employees\",\n",
    "    user=\"postgres\",\n",
    "    password=mdp)\n",
    "## cursor\n",
    "cur = conn.cursor()\n",
    "\n",
    "# list for inserting\n",
    "cols = \",\".join([str(i) for i in employ_df.columns.tolist()])\n",
    "print(cols)\n",
    "\n",
    "# insert DataFrame records one by one.\n",
    "for i,row in employ_df.iterrows():\n",
    "    sql = \"INSERT INTO Employees (\" +cols + \") VALUES (\" + \"%s,\"*(len(row)-1) + \"%s)\"\n",
    "    print('Inserida linha ' + str(i))\n",
    "    cur.execute(sql, tuple(row))\n",
    "    conn.commit()\n",
    "\n",
    "cur.close()\n",
    "conn.close()\n",
    "print('Tabela Employees povoada! Conexão encerrada.')"
   ]
  },
  {
   "cell_type": "code",
   "execution_count": null,
   "metadata": {},
   "outputs": [],
   "source": [
    "# FIM"
   ]
  }
 ],
 "metadata": {
  "interpreter": {
   "hash": "e90e54f4c6eb6e740d1f99800d56dc311ff943b57d712f0ab6d7ddc5b21ec557"
  },
  "kernelspec": {
   "display_name": "Python 3.7.7 ('modulo06-env': venv)",
   "language": "python",
   "name": "python3"
  },
  "language_info": {
   "codemirror_mode": {
    "name": "ipython",
    "version": 3
   },
   "file_extension": ".py",
   "mimetype": "text/x-python",
   "name": "python",
   "nbconvert_exporter": "python",
   "pygments_lexer": "ipython3",
   "version": "3.7.7"
  },
  "orig_nbformat": 4
 },
 "nbformat": 4,
 "nbformat_minor": 2
}
